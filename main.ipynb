{
 "cells": [
  {
   "cell_type": "code",
   "execution_count": 1,
   "metadata": {
    "ExecuteTime": {
     "end_time": "2018-11-18T03:29:44.764719Z",
     "start_time": "2018-11-18T03:29:44.144640Z"
    }
   },
   "outputs": [],
   "source": [
    "import numpy as np\n",
    "import pandas as pd \n",
    "import re\n",
    "from sklearn.linear_model import LogisticRegression"
   ]
  },
  {
   "cell_type": "code",
   "execution_count": 2,
   "metadata": {
    "ExecuteTime": {
     "end_time": "2018-11-18T03:29:46.245768Z",
     "start_time": "2018-11-18T03:29:44.767614Z"
    }
   },
   "outputs": [],
   "source": [
    "# Read train and test data in to data dictionary.\n",
    "data = {}\n",
    "data[\"train\"] = pd.read_csv(\"train.csv\")\n",
    "# data[\"test\"] = pd.read_csv(\"test.csv\")\n",
    "# data[\"test\"].head()"
   ]
  },
  {
   "cell_type": "code",
   "execution_count": 3,
   "metadata": {
    "ExecuteTime": {
     "end_time": "2018-11-18T03:34:35.703724Z",
     "start_time": "2018-11-18T03:29:46.249782Z"
    }
   },
   "outputs": [],
   "source": [
    "import gensim\n",
    "model = gensim.models.KeyedVectors.load_word2vec_format('GoogleNews-vectors-negative300.bin.gz', binary=True)\n",
    "words = model.index2word"
   ]
  },
  {
   "cell_type": "code",
   "execution_count": 4,
   "metadata": {
    "ExecuteTime": {
     "end_time": "2018-11-18T03:34:36.519206Z",
     "start_time": "2018-11-18T03:34:35.796493Z"
    },
    "scrolled": true
   },
   "outputs": [
    {
     "name": "stderr",
     "output_type": "stream",
     "text": [
      "/opt/conda/lib/python3.6/site-packages/ipykernel_launcher.py:1: DeprecationWarning: Call to deprecated `wv` (Attribute will be removed in 4.0.0, use self instead).\n",
      "  \"\"\"Entry point for launching an IPython kernel.\n"
     ]
    },
    {
     "name": "stdout",
     "output_type": "stream",
     "text": [
      "300\n",
      "3000000\n",
      "404290\n"
     ]
    },
    {
     "data": {
      "text/html": [
       "<div>\n",
       "<style scoped>\n",
       "    .dataframe tbody tr th:only-of-type {\n",
       "        vertical-align: middle;\n",
       "    }\n",
       "\n",
       "    .dataframe tbody tr th {\n",
       "        vertical-align: top;\n",
       "    }\n",
       "\n",
       "    .dataframe thead th {\n",
       "        text-align: right;\n",
       "    }\n",
       "</style>\n",
       "<table border=\"1\" class=\"dataframe\">\n",
       "  <thead>\n",
       "    <tr style=\"text-align: right;\">\n",
       "      <th></th>\n",
       "      <th>id</th>\n",
       "      <th>qid1</th>\n",
       "      <th>qid2</th>\n",
       "      <th>question1</th>\n",
       "      <th>question2</th>\n",
       "      <th>is_duplicate</th>\n",
       "    </tr>\n",
       "  </thead>\n",
       "  <tbody>\n",
       "    <tr>\n",
       "      <th>0</th>\n",
       "      <td>0</td>\n",
       "      <td>1</td>\n",
       "      <td>2</td>\n",
       "      <td>What is the step by step guide to invest in sh...</td>\n",
       "      <td>What is the step by step guide to invest in sh...</td>\n",
       "      <td>0</td>\n",
       "    </tr>\n",
       "    <tr>\n",
       "      <th>1</th>\n",
       "      <td>1</td>\n",
       "      <td>3</td>\n",
       "      <td>4</td>\n",
       "      <td>What is the story of Kohinoor (Koh-i-Noor) Dia...</td>\n",
       "      <td>What would happen if the Indian government sto...</td>\n",
       "      <td>0</td>\n",
       "    </tr>\n",
       "    <tr>\n",
       "      <th>2</th>\n",
       "      <td>2</td>\n",
       "      <td>5</td>\n",
       "      <td>6</td>\n",
       "      <td>How can I increase the speed of my internet co...</td>\n",
       "      <td>How can Internet speed be increased by hacking...</td>\n",
       "      <td>0</td>\n",
       "    </tr>\n",
       "    <tr>\n",
       "      <th>3</th>\n",
       "      <td>3</td>\n",
       "      <td>7</td>\n",
       "      <td>8</td>\n",
       "      <td>Why am I mentally very lonely? How can I solve...</td>\n",
       "      <td>Find the remainder when [math]23^{24}[/math] i...</td>\n",
       "      <td>0</td>\n",
       "    </tr>\n",
       "    <tr>\n",
       "      <th>4</th>\n",
       "      <td>4</td>\n",
       "      <td>9</td>\n",
       "      <td>10</td>\n",
       "      <td>Which one dissolve in water quikly sugar, salt...</td>\n",
       "      <td>Which fish would survive in salt water?</td>\n",
       "      <td>0</td>\n",
       "    </tr>\n",
       "  </tbody>\n",
       "</table>\n",
       "</div>"
      ],
      "text/plain": [
       "   id  qid1  qid2                                          question1  \\\n",
       "0   0     1     2  What is the step by step guide to invest in sh...   \n",
       "1   1     3     4  What is the story of Kohinoor (Koh-i-Noor) Dia...   \n",
       "2   2     5     6  How can I increase the speed of my internet co...   \n",
       "3   3     7     8  Why am I mentally very lonely? How can I solve...   \n",
       "4   4     9    10  Which one dissolve in water quikly sugar, salt...   \n",
       "\n",
       "                                           question2  is_duplicate  \n",
       "0  What is the step by step guide to invest in sh...             0  \n",
       "1  What would happen if the Indian government sto...             0  \n",
       "2  How can Internet speed be increased by hacking...             0  \n",
       "3  Find the remainder when [math]23^{24}[/math] i...             0  \n",
       "4            Which fish would survive in salt water?             0  "
      ]
     },
     "execution_count": 4,
     "metadata": {},
     "output_type": "execute_result"
    }
   ],
   "source": [
    "print(len(model.wv[\"computer\"]))\n",
    "print(len(model.vocab))\n",
    "print(len(data[\"train\"]))\n",
    "data[\"train\"].head()"
   ]
  },
  {
   "cell_type": "code",
   "execution_count": 5,
   "metadata": {
    "ExecuteTime": {
     "end_time": "2018-11-18T03:34:36.722538Z",
     "start_time": "2018-11-18T03:34:36.524635Z"
    }
   },
   "outputs": [],
   "source": [
    "class FeaturePreparer:\n",
    "    FEATURE_SIZE = 300\n",
    "    def __init__(self):\n",
    "        pass\n",
    "    def IsNumber(self, input_string):\n",
    "        if re.match(\"[0-9]+\", input_string):\n",
    "            return True\n",
    "        else:\n",
    "            return False\n",
    "    def IsSymbol(self, input_string):\n",
    "        return len(input_string) == 1 and input_string in [\",./;'[]\\\\-=`~!@#$%^&*()_+{}|:\\\"<>?\"]\n",
    "    \n",
    "    def GenerateWord2VecFeature(self, word):\n",
    "        if word not in model.vocab:\n",
    "            return np.zeros((1, 300)), True\n",
    "        else:\n",
    "            return model.wv[word], False\n",
    "        \n",
    "    def GenerateFeature(self, input_string):\n",
    "        if type(input_string) != type(\"\"):\n",
    "            input_string = \"\"\n",
    "            \n",
    "        words, symbols, numbers = [], [], []\n",
    "        for token in input_string.lower().split():\n",
    "            if self.IsNumber(token):\n",
    "                numbers.append(token)\n",
    "            elif self.IsSymbol(token):\n",
    "                symbols.append(token)\n",
    "            else:\n",
    "                words.append(token)\n",
    "        feature_vec = np.array([[]])\n",
    "        \n",
    "        word_sum_vec = np.zeros((1, 300))\n",
    "        total_words = 0\n",
    "        for word in words:\n",
    "            word_vec, is_zero = self.GenerateWord2VecFeature(word)\n",
    "            word_sum_vec += word_vec\n",
    "            if not is_zero:\n",
    "                total_words += 1\n",
    "        if total_words != 0:\n",
    "            word_sum_vec /= 1.0 * total_words\n",
    "        feature_vec = np.concatenate((feature_vec, word_sum_vec), axis = 1)\n",
    "        \n",
    "        return feature_vec\n",
    "feature_preparer = FeaturePreparer()\n",
    "# feature_preparer.GenerateFeature(\"computercdsaf\")"
   ]
  },
  {
   "cell_type": "code",
   "execution_count": 11,
   "metadata": {
    "ExecuteTime": {
     "end_time": "2018-11-18T03:46:58.364251Z",
     "start_time": "2018-11-18T03:46:58.272544Z"
    }
   },
   "outputs": [],
   "source": [
    "class DataModelOnlyUseWord2Vec:\n",
    "    def PrepareData(self):\n",
    "        TRAIN_SPLIT = 85\n",
    "        self.train_x = np.zeros((len(data[\"train\"]) // 100 * TRAIN_SPLIT, FeaturePreparer.FEATURE_SIZE))\n",
    "        self.train_y = []\n",
    "\n",
    "        self.valid_x = np.zeros((len(data[\"train\"]) - (len(data[\"train\"]) // 100 * TRAIN_SPLIT), FeaturePreparer.FEATURE_SIZE))\n",
    "        self.valid_y = []\n",
    "\n",
    "        def GenerateDataPoint(question_1, question_2, is_duplicate):\n",
    "            feature_1 = feature_preparer.GenerateFeature(question_1)\n",
    "            feature_2 = feature_preparer.GenerateFeature(question_2)\n",
    "            return feature_1 - feature_2\n",
    "        for index, row in data[\"train\"].iterrows():\n",
    "            if index % 10000 == 0:\n",
    "                print (index)\n",
    "            if index < len(data[\"train\"]) // 100 * TRAIN_SPLIT:\n",
    "                self.train_x[len(self.train_y)] = GenerateDataPoint(row.question1, row.question2, row.is_duplicate)\n",
    "                self.train_y.append(int(row.is_duplicate))\n",
    "            else:\n",
    "                self.valid_x[len(self.valid_y)] = GenerateDataPoint(row.question1, row.question2, row.is_duplicate)\n",
    "                self.valid_y.append(int(row.is_duplicate))\n",
    "\n",
    "        self.train_y = np.array(self.train_y)\n",
    "        self.valid_y = np.array(self.valid_y)\n",
    "#         print(self.train_x.shape, self.train_y.shape)\n",
    "        print(\"Generate data model only use word2vec finished! Start to train!\")\n",
    "    def Train(self):\n",
    "        clf = LogisticRegression(random_state=0, solver='lbfgs', multi_class='multinomial').fit(self.train_x, self.train_y)\n",
    "        print(clf.score(self.train_x, self.train_y))\n",
    "        prediction = clf.predict(self.valid_x)\n",
    "        print (np.average(prediction == self.valid_y))"
   ]
  },
  {
   "cell_type": "code",
   "execution_count": 12,
   "metadata": {
    "ExecuteTime": {
     "end_time": "2018-11-18T03:54:07.649841Z",
     "start_time": "2018-11-18T03:46:58.750552Z"
    }
   },
   "outputs": [
    {
     "name": "stdout",
     "output_type": "stream",
     "text": [
      "0\n"
     ]
    },
    {
     "name": "stderr",
     "output_type": "stream",
     "text": [
      "/opt/conda/lib/python3.6/site-packages/ipykernel_launcher.py:17: DeprecationWarning: Call to deprecated `wv` (Attribute will be removed in 4.0.0, use self instead).\n"
     ]
    },
    {
     "name": "stdout",
     "output_type": "stream",
     "text": [
      "10000\n",
      "20000\n",
      "30000\n",
      "40000\n",
      "50000\n",
      "60000\n",
      "70000\n",
      "80000\n",
      "90000\n",
      "100000\n",
      "110000\n",
      "120000\n",
      "130000\n",
      "140000\n",
      "150000\n",
      "160000\n",
      "170000\n",
      "180000\n",
      "190000\n",
      "200000\n",
      "210000\n",
      "220000\n",
      "230000\n",
      "240000\n",
      "250000\n",
      "260000\n",
      "270000\n",
      "280000\n",
      "290000\n",
      "300000\n",
      "310000\n",
      "320000\n",
      "330000\n",
      "340000\n",
      "350000\n",
      "360000\n",
      "370000\n",
      "380000\n",
      "390000\n",
      "400000\n",
      "Generate data model only use word2vec finished! Start to train!\n"
     ]
    }
   ],
   "source": [
    "data_model_1 = DataModelOnlyUseWord2Vec()\n",
    "data_model_1.PrepareData()\n",
    "# data_model_1.Train()"
   ]
  },
  {
   "cell_type": "code",
   "execution_count": null,
   "metadata": {},
   "outputs": [],
   "source": []
  }
 ],
 "metadata": {
  "kernelspec": {
   "display_name": "Python 3",
   "language": "python",
   "name": "python3"
  },
  "language_info": {
   "codemirror_mode": {
    "name": "ipython",
    "version": 3
   },
   "file_extension": ".py",
   "mimetype": "text/x-python",
   "name": "python",
   "nbconvert_exporter": "python",
   "pygments_lexer": "ipython3",
   "version": "3.6.5"
  },
  "toc": {
   "base_numbering": 1,
   "nav_menu": {},
   "number_sections": true,
   "sideBar": true,
   "skip_h1_title": false,
   "title_cell": "Table of Contents",
   "title_sidebar": "Contents",
   "toc_cell": false,
   "toc_position": {},
   "toc_section_display": true,
   "toc_window_display": false
  },
  "varInspector": {
   "cols": {
    "lenName": 16,
    "lenType": 16,
    "lenVar": 40
   },
   "kernels_config": {
    "python": {
     "delete_cmd_postfix": "",
     "delete_cmd_prefix": "del ",
     "library": "var_list.py",
     "varRefreshCmd": "print(var_dic_list())"
    },
    "r": {
     "delete_cmd_postfix": ") ",
     "delete_cmd_prefix": "rm(",
     "library": "var_list.r",
     "varRefreshCmd": "cat(var_dic_list()) "
    }
   },
   "types_to_exclude": [
    "module",
    "function",
    "builtin_function_or_method",
    "instance",
    "_Feature"
   ],
   "window_display": false
  }
 },
 "nbformat": 4,
 "nbformat_minor": 2
}
